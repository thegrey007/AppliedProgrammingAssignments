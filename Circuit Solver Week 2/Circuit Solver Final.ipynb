{
 "cells": [
  {
   "cell_type": "markdown",
   "id": "63fcc4b0-a30f-491b-839e-c7efce76ac02",
   "metadata": {},
   "source": [
    "#### The zip folder contains the original jupyter notebook (.ipynb), which can be executed either on local jupyter or on this server. It also contains the exported LaTeX version of the notebook. I have made use of numpy, cmath and sys libraries in this notebook."
   ]
  },
  {
   "cell_type": "markdown",
   "id": "72dad826-8e2c-4c30-804b-61ea3dacbe63",
   "metadata": {},
   "source": [
    "Firstly, we import the necessary libraries. `cmath` is for complex number calculations."
   ]
  },
  {
   "cell_type": "code",
   "execution_count": 1,
   "id": "19f2e369-7d85-4a15-bf01-6f5d54d586c0",
   "metadata": {},
   "outputs": [],
   "source": [
    "import numpy as np\n",
    "import cmath\n",
    "import sys"
   ]
  },
  {
   "cell_type": "markdown",
   "id": "4cd08ba6-adbf-4cf1-b6ad-38a1ffd8fc8f",
   "metadata": {},
   "source": [
    "## Factorial"
   ]
  },
  {
   "cell_type": "code",
   "execution_count": 2,
   "id": "b5be07c1-2249-4b7a-8f24-474317f6d323",
   "metadata": {},
   "outputs": [],
   "source": [
    "def factorial(n):\n",
    "    if(n == 0):\n",
    "        return 1\n",
    "    return(n*factorial(n-1))"
   ]
  },
  {
   "cell_type": "markdown",
   "id": "71a22732-a1a6-4cf5-9829-db87289a5c0f",
   "metadata": {},
   "source": [
    "The above function recursively calculates the factorial of any integer, using the relation $N! = N \\times (N-1)!$"
   ]
  },
  {
   "cell_type": "code",
   "execution_count": 3,
   "id": "4d50214a-14be-4d22-9b83-f30a2d71fd0d",
   "metadata": {},
   "outputs": [
    {
     "data": {
      "text/plain": [
       "720"
      ]
     },
     "execution_count": 3,
     "metadata": {},
     "output_type": "execute_result"
    }
   ],
   "source": [
    "factorial(6)"
   ]
  },
  {
   "cell_type": "code",
   "execution_count": 4,
   "id": "a10c8d96-e2bb-4eb3-abcb-32680da49bdd",
   "metadata": {},
   "outputs": [],
   "source": [
    "def factorialiterative(n):\n",
    "    p = 1\n",
    "    for i in range(1, n+1):\n",
    "        p *= i\n",
    "    return(p)\n",
    "    "
   ]
  },
  {
   "cell_type": "markdown",
   "id": "f83fd34a-b747-47ff-b204-23d7623d3848",
   "metadata": {},
   "source": [
    "This is an alternative iterative implementation of factorial, which uses $N! = 1 \\cdot 2 \\cdot 3 \\dots N$"
   ]
  },
  {
   "cell_type": "code",
   "execution_count": 5,
   "id": "a6c4c979-dd43-4916-a996-5bc3d44ca188",
   "metadata": {},
   "outputs": [
    {
     "data": {
      "text/plain": [
       "5040"
      ]
     },
     "execution_count": 5,
     "metadata": {},
     "output_type": "execute_result"
    }
   ],
   "source": [
    "factorialiterative(7)"
   ]
  },
  {
   "cell_type": "markdown",
   "id": "6e4522e5-fc0d-4637-ad93-4ff04a3a89f4",
   "metadata": {},
   "source": [
    "# Gaussian Elimination"
   ]
  },
  {
   "cell_type": "code",
   "execution_count": 6,
   "id": "feda7e9a-ee5a-4ad1-987e-f65aa3e0c430",
   "metadata": {},
   "outputs": [],
   "source": [
    "def pivot(A, b, col, n):\n",
    "    pivotRow = col\n",
    "    for i in range(col, n):\n",
    "        if abs(A[i][col]) > abs(A[pivotRow][col]):\n",
    "            pivotRow = i\n",
    "    return pivotRow"
   ]
  },
  {
   "cell_type": "markdown",
   "id": "8c4eee58-a6ce-426a-a5d6-e822878387b7",
   "metadata": {},
   "source": [
    "The pivot function finds the largest element in the given column and returns its row index. Later in the code, we switch this large element row to become the \"pivot\" row (the row that we subtract from all other rows below it, to generate upper triangular matrix). We do this so that we don't divide by small numbers in the normalisation step, since this may result in coefficients that are too big to fit in the 128 bit complex coefficient matrix we use in Gaussian Elimination."
   ]
  },
  {
   "cell_type": "code",
   "execution_count": 7,
   "id": "0a7b66cf-dbce-4de7-8af4-0a9d591c9f43",
   "metadata": {},
   "outputs": [],
   "source": [
    "def gausselimcomplex(A, b):\n",
    "    n = A.shape\n",
    "    r = n[0]\n",
    "    z = np.zeros(n[1], dtype = 'complex') # zero row \n",
    "    if n[0] < n[1]:\n",
    "        print(\"Infinite solutions because no of equations < no of variables\")\n",
    "        return\n",
    "    if n[0] > n[1]:\n",
    "        print(\"No solution!\") # Inconsistent equations\n",
    "        return\n",
    "    for i in range(r): # current row\n",
    "        exc = pivot(A, b, i, r) # find largest element in the current column and make corresponding row the pivot row\n",
    "        A[[i, exc]] = A[[exc, i]]\n",
    "        b[[i, exc]] = b[[exc, i]]\n",
    "        f1 = A[i][i]\n",
    "        A[i] = A[i]/f1\n",
    "        b[i] = b[i]/f1 #normalising the current row\n",
    "        for j in range(i+1, r): # for all rows below current row\n",
    "            f2 = A[j][i]\n",
    "            A[j] = A[j] - f2*A[i] #make corresponding element of subsequent rows zero\n",
    "            b[j] = b[j] - f2*b[i]\n",
    "            if (z == A[j]).all(): \n",
    "                if b[j] != 0: # if the coefficient matrix has all zero coefficients but the b matrix has non zero element, we have no solutions\n",
    "                    print(\"Inconsistent equations!\")\n",
    "                    return\n",
    "                else:\n",
    "                    print(\"Infinite solutions!\")# if we encounter a zero row, implying that one of the equations was a linear combination of the rows above it, we have infinite solutions; not enough unique equations\n",
    "                    return\n",
    "                    \n",
    "            \n",
    "    x = np.zeros(r, dtype = 'complex') # solution matrix\n",
    "    x[r-1] = b[r-1]\n",
    "    \n",
    "    for i in range(r-2, -1, -1):\n",
    "        temp = np.dot(A[i], x)\n",
    "        x[i] = b[i] - temp\n",
    "    \n",
    "    # print(A)\n",
    "    # print(b) \n",
    "    # print(x)\n",
    "    return x            "
   ]
  },
  {
   "cell_type": "markdown",
   "id": "93ac8c06-8c16-4238-869f-6cacfe11637d",
   "metadata": {},
   "source": [
    "The `gausselimcomplex` function performs Gaussian Elimination. The steps are as follows:\n",
    "- Firstly, we pick a pivot row and take it to the top of the sub matrix we are currently considering\n",
    "- We then normalize the pivot row by dividing by the first element of the row\n",
    "- We then subtract this row from each subsequent row by multiplying with an appropriate factor (first element of each row) to get the first element as zero. This is done to generate the upper triangular matrix for Gaussian Elimination.\n",
    "- Once we have the upper triangular matrix, we back substitute from bottom to top to get the required values of the variables."
   ]
  },
  {
   "cell_type": "code",
   "execution_count": 8,
   "id": "1eccde4a-1344-4096-a599-eb10651350d0",
   "metadata": {},
   "outputs": [],
   "source": [
    "p = np.array([[1, 1, 1], [1, -1, 1], [9,8,5]], dtype = float)\n",
    "q = np.array([[2], [0], [9]], dtype = float)"
   ]
  },
  {
   "cell_type": "code",
   "execution_count": 9,
   "id": "cb836424-2bd3-4b21-8147-b2452642280e",
   "metadata": {},
   "outputs": [],
   "source": [
    "p = np.random.randn(10, 10)*10\n",
    "q = np.random.randn(10, 1)*10\n",
    "a = p\n",
    "b = q"
   ]
  },
  {
   "cell_type": "code",
   "execution_count": 10,
   "id": "ca8c3e76-36de-43ff-995d-dc086a34f383",
   "metadata": {},
   "outputs": [
    {
     "name": "stdout",
     "output_type": "stream",
     "text": [
      "[11.59210759+0.j -7.66790891+0.j  4.3996422 +0.j -2.58029954+0.j\n",
      " -6.20415953+0.j -3.27938511+0.j  4.56930555+0.j  1.7797771 +0.j\n",
      "  2.50581619+0.j -6.40928509+0.j]\n",
      "537 µs ± 16.2 µs per loop (mean ± std. dev. of 7 runs, 1,000 loops each)\n"
     ]
    }
   ],
   "source": [
    "ans = gausselimcomplex(p, q)\n",
    "print(ans)\n",
    "%timeit gausselimcomplex(p, q)"
   ]
  },
  {
   "cell_type": "code",
   "execution_count": 11,
   "id": "203cc48a-14cb-4b11-84e2-560048eebf0c",
   "metadata": {},
   "outputs": [
    {
     "name": "stdout",
     "output_type": "stream",
     "text": [
      "[[11.59210759]\n",
      " [-7.66790891]\n",
      " [ 4.3996422 ]\n",
      " [-2.58029954]\n",
      " [-6.20415953]\n",
      " [-3.27938511]\n",
      " [ 4.56930555]\n",
      " [ 1.7797771 ]\n",
      " [ 2.50581619]\n",
      " [-6.40928509]]\n",
      "20.3 µs ± 902 ns per loop (mean ± std. dev. of 7 runs, 100,000 loops each)\n"
     ]
    }
   ],
   "source": [
    "print(np.linalg.solve(a, b))\n",
    "%timeit np.linalg.solve(a, b)"
   ]
  },
  {
   "cell_type": "markdown",
   "id": "56ccccef-fc40-4f42-b00b-6a2c6a287f85",
   "metadata": {},
   "source": [
    "As we can see, `np.linalg.solve` runs approximately 30 times faster than the handwritten Gaussian Elimination solver."
   ]
  },
  {
   "cell_type": "markdown",
   "id": "909ef239-dedb-4132-9813-ce1c383c0c4a",
   "metadata": {},
   "source": [
    "# Spice Simulator"
   ]
  },
  {
   "cell_type": "code",
   "execution_count": 12,
   "id": "44a10580-a79f-443c-9f87-7d06bc3f2f56",
   "metadata": {},
   "outputs": [],
   "source": [
    "def singlefreq(inp):\n",
    "    currfreq = \"nothing\" # initializing frequency with invalid value to update with frequency value\n",
    "    lineno = -1 # line number of where the frequency information is given in the input string\n",
    "    for i in range(len(inp)):\n",
    "        params = inp[i].split()\n",
    "        if len(params) == 0:\n",
    "            continue\n",
    "        if params[0] == \".ac\":\n",
    "            if currfreq == \"nothing\":\n",
    "                currfreq = params[2]\n",
    "                lineno = i\n",
    "            if params[2] != currfreq:\n",
    "                print(\"Multiple operating frequencies cannot be handled!\")\n",
    "                sys.exit()\n",
    "    return(lineno)"
   ]
  },
  {
   "cell_type": "markdown",
   "id": "80959884-aec6-4c75-ac78-7e90fa085c20",
   "metadata": {},
   "source": [
    "The `singlefreq` function checks if our circuit has single operating frequency for all AC sources, since this solver cannot handle multiple operating frequencies. If multiple frequencies are found, we exit the code execution."
   ]
  },
  {
   "cell_type": "code",
   "execution_count": 13,
   "id": "677c7bc3-172e-44c4-bde2-fce7802030d7",
   "metadata": {},
   "outputs": [],
   "source": [
    "def matrix_prep(inp, dc, i):\n",
    "    inp_new = []\n",
    "    while inp[i] != \".end\\n\":\n",
    "        params = inp[i].split() # reading line by line\n",
    "        component = params[0][0]\n",
    "        nodeFrom = params[1]\n",
    "        nodeTo = params[2]\n",
    "        temp = inp[i]\n",
    "        if (params[3] == 'ac' and dc) or (params[3] == 'dc' and not dc): # we remove AC sources when we are solving the purely DC sources and vice versa to get purely AC or DC netlist\n",
    "            if component == \"V\":\n",
    "                temp = params[0] +' ' + nodeFrom +' ' + nodeTo +' ' + 'dc'+' '  + '0\\n' # shorting voltage source by making it 0V\n",
    "            if component == \"I\":\n",
    "                i += 1\n",
    "                continue # shorting current source by disconnecting it\n",
    "        inp_new.append(temp)\n",
    "        i += 1\n",
    "    inp_new.append(\".end\\n\")\n",
    "    freqline = singlefreq(inp)\n",
    "    if not dc:\n",
    "        if freqline > -1:\n",
    "            inp_new.append(inp[freqline]) # adding the line with the frequency information\n",
    "    return inp_new"
   ]
  },
  {
   "cell_type": "markdown",
   "id": "8c3040e7-a202-4f86-a7e2-7eb36034aa78",
   "metadata": {},
   "source": [
    "The `matrix_prep` function scans the matrix and ensures that the netlist has only one particular type of sources; either AC sources or DC sources. This is done to ensure that the netlist being fed into the next segments of the MNA solver has either all AC or all DC sources (assuming all AC sources, if present, have the same frequency)."
   ]
  },
  {
   "cell_type": "code",
   "execution_count": 14,
   "id": "688ab7e2-fb7a-4465-ac96-d6cd0289ca1e",
   "metadata": {},
   "outputs": [],
   "source": [
    "def matrix_init(inp, i, dc):\n",
    "    x = []\n",
    "    while inp[i] != \".end\\n\":\n",
    "        params = inp[i].split()\n",
    "        component = params[0][0]\n",
    "        nodeFrom = params[1]\n",
    "        nodeTo = params[2]\n",
    "        if component == \"V\": # adding auxillary current variable for every voltage source, flowing from its low to high voltage terminal\n",
    "            x.append(\"I\" + params[0])\n",
    "        if (component == \"L\" or component == \"C\") and dc:\n",
    "            i += 1\n",
    "            continue\n",
    "        if not(nodeFrom in x): # appending nodes voltage variables (if not already added) to the variable matrix \n",
    "            x.append(nodeFrom)\n",
    "        if not(nodeTo in x):\n",
    "            x.append(nodeTo)\n",
    "        i += 1\n",
    "                            \n",
    "    n = len(x)\n",
    "    M = np.zeros((n,n), dtype = complex) # M is a square matrix with dimensions nxn, where n is the number of unique variables in the variable matrix\n",
    "    b = np.zeros(n, dtype = complex) # b has dimensions equal to the size of the variable matrix\n",
    "    return M, x, b\n",
    "            "
   ]
  },
  {
   "cell_type": "markdown",
   "id": "d59a53ab-a460-4a02-b813-f6d99cbd29dc",
   "metadata": {},
   "source": [
    "The `matrix_init` function determines the number of unique node voltage variables and auxillary current variables (one for each voltage source) and creates appropriately sized matrices M (coefficient matrix), b and x (variable names matrix)."
   ]
  },
  {
   "cell_type": "code",
   "execution_count": 15,
   "id": "81721892-48a3-405d-8f40-7246ffc9bd1e",
   "metadata": {},
   "outputs": [],
   "source": [
    "def mnaSolver(inp, dc, i):\n",
    "    q = i\n",
    "    M, x, b = matrix_init(inp, q, dc) #initializes the matrix to required size \n",
    "\n",
    "    if not dc:\n",
    "        k = inp.index('.end\\n')\n",
    "        k += 1 # index of the frequency\n",
    "        freq = 0.0 # initialize freq to 0; if dc it stays 0, else we read ac frequency from bottom of the netlist\n",
    "        try:\n",
    "            freqparams = inp[k].split()\n",
    "            if len(freqparams) != 0:\n",
    "                if freqparams[0] == '.ac':\n",
    "                    freq = float(freqparams[2])\n",
    "        except:\n",
    "            pass\n",
    "        w = 2 * np.pi * freq\n",
    "\n",
    "    while inp[i] != \".end\\n\": # reading the netlist components one by one\n",
    "        params = inp[i].split()\n",
    "        component = params[0][0]\n",
    "        nodeFrom = params[1]\n",
    "        nodeTo = params[2]\n",
    "\n",
    "        if component == \"R\": # stamping the matrix for resistors\n",
    "            value = float(params[3])\n",
    "            M[x.index(nodeFrom)][x.index(nodeFrom)] += 1/value\n",
    "            M[x.index(nodeTo)][x.index(nodeTo)] += 1/value\n",
    "            M[x.index(nodeFrom)][x.index(nodeTo)] += -1/value\n",
    "            M[x.index(nodeTo)][x.index(nodeFrom)] += -1/value\n",
    "        if component == \"V\": # stamping matrix for voltage sources\n",
    "            dc = (params[3] == 'dc')\n",
    "            nodeTo = params[1]\n",
    "            nodeFrom = params[2]\n",
    "            if dc:\n",
    "                value = float(params[4])\n",
    "            else:\n",
    "                value = float(params[4])*cmath.exp(float(params[5])*1j) # value of voltage source becomes magnitude*exp(j*phase angle)\n",
    "            #iv1 flows from nodeFrom to nodeTo, it comes out of positive terminal of voltage source\n",
    "            M[x.index(nodeTo)][x.index('I'+ params[0])] = -1\n",
    "            M[x.index(nodeFrom)][x.index('I'+ params[0])] = 1\n",
    "            M[x.index('I'+ params[0])][x.index(nodeTo)] = 1\n",
    "            M[x.index('I'+ params[0])][x.index(nodeFrom)] = -1\n",
    "            b[x.index('I'+ params[0])] = value\n",
    "\n",
    "\n",
    "        if component == \"I\":\n",
    "            dc = (params[3] == 'dc')\n",
    "            if dc:\n",
    "                value = float(params[4])\n",
    "            else:\n",
    "                value = float(params[4])*cmath.exp(float(params[5])*1j) # value of current source becomes magnitude*exp(j*phase angle)\n",
    "            b[x.index(nodeFrom)] += -1*value\n",
    "            b[x.index(nodeTo)] += value\n",
    "\n",
    "        if component == \"C\" and not dc: # this mna solver can solve L and C only for ac sources\n",
    "            value = 1/(float(params[3]) * w * 1j) # capacitive impedance for capacitor in AC circuit\n",
    "            M[x.index(nodeFrom)][x.index(nodeFrom)] += 1/value\n",
    "            M[x.index(nodeTo)][x.index(nodeTo)] += 1/value\n",
    "            M[x.index(nodeFrom)][x.index(nodeTo)] += -1/value\n",
    "            M[x.index(nodeTo)][x.index(nodeFrom)] += -1/value\n",
    "\n",
    "        if component == \"L\" and not dc:\n",
    "            value = (float(params[3]) * w * 1j) # inductive impedance for inductor in AC circuit\n",
    "            M[x.index(nodeFrom)][x.index(nodeFrom)] += 1/value\n",
    "            M[x.index(nodeTo)][x.index(nodeTo)] += 1/value\n",
    "            M[x.index(nodeFrom)][x.index(nodeTo)] += -1/value\n",
    "            M[x.index(nodeTo)][x.index(nodeFrom)] += -1/value\n",
    "\n",
    "\n",
    "        i += 1\n",
    "\n",
    "    # replacing the redundant GND equation with VGND = 0V\n",
    "    M[x.index('GND')] = np.zeros(M.shape[1]) \n",
    "    M[x.index('GND')][x.index('GND')] = 1\n",
    "    b[x.index('GND')] = 0\n",
    "    \n",
    "    # solving for variables\n",
    "    ans = gausselimcomplex(M, b)\n",
    "\n",
    "    return ans, x"
   ]
  },
  {
   "cell_type": "markdown",
   "id": "3363db1c-a058-4c52-b69a-c3a5f970f6ea",
   "metadata": {},
   "source": [
    "`mnaSolver` takes the netlist as input, goes through the components one by one and appropriately updates the MNA coefficient matrix. For AC circuits, the solver converts L and C values to impedances before updating.\n",
    "\n",
    "We then solve the MNA equation using the Gaussian Elimination solver coded above."
   ]
  },
  {
   "cell_type": "markdown",
   "id": "6e7d6957-1c3f-446b-a4db-e15b85c13f03",
   "metadata": {},
   "source": [
    "#### DC only circuits (circuits 1, 3, 4, 5)"
   ]
  },
  {
   "cell_type": "code",
   "execution_count": 16,
   "id": "d232b80e-1685-4eb4-be21-93d4ca0dd0dc",
   "metadata": {},
   "outputs": [
    {
     "name": "stdout",
     "output_type": "stream",
     "text": [
      "Values for DC analysis: \n",
      "GND\t0.0\n",
      "1\t0.0\n",
      "2\t0.0\n",
      "3\t0.0\n",
      "4\t-5.0\n",
      "IV1\t0.0005\n"
     ]
    }
   ],
   "source": [
    "f = open(\"ckt1.netlist\", \"r\") \n",
    "inp = f.readlines()\n",
    "f.close()\n",
    "singlefreq(inp) # checking if there is only single operating frequency for all AC sources in the circuit\n",
    "ik = int(0)\n",
    "for ik in range(len(inp)):\n",
    "    if inp[ik] == \".circuit\\n\":\n",
    "        break\n",
    "ik += 1\n",
    "j = ik\n",
    "k = ik\n",
    "p = ik\n",
    "while inp[ik] != \".end\\n\":\n",
    "    ik += 1\n",
    "\n",
    "in1 = matrix_prep(inp, True, j) # creating dc netlist\n",
    "ans_dc, names1 = mnaSolver(in1, True, 0)\n",
    "print(\"Values for DC analysis: \")\n",
    "for x in range(len(names1)):\n",
    "    print(names1[x] + \"\\t\" + str(ans_dc[x].real))"
   ]
  },
  {
   "cell_type": "code",
   "execution_count": 17,
   "id": "e26a428d-d47b-4bfe-bf02-b339af1c35cd",
   "metadata": {},
   "outputs": [
    {
     "name": "stdout",
     "output_type": "stream",
     "text": [
      "Values for DC analysis: \n",
      "IV1\t0.004970760233918129\n",
      "GND\t0.0\n",
      "1\t-10.0\n",
      "2\t-5.029239766081871\n",
      "3\t-2.5730994152046787\n",
      "4\t-1.403508771929825\n",
      "5\t-0.9356725146198834\n"
     ]
    }
   ],
   "source": [
    "f = open(\"ckt3.netlist\", \"r\") \n",
    "inp = f.readlines()\n",
    "f.close()\n",
    "_ = singlefreq(inp) # checking if there is only single operating frequency for all AC sources in the circuit\n",
    "ik = int(0)\n",
    "for ik in range(len(inp)):\n",
    "    if inp[ik] == \".circuit\\n\":\n",
    "        break\n",
    "ik += 1\n",
    "j = ik\n",
    "k = ik\n",
    "p = ik\n",
    "while inp[ik] != \".end\\n\":\n",
    "    ik += 1\n",
    "\n",
    "in1 = matrix_prep(inp, True, j) # creating dc netlist\n",
    "ans_dc, names1 = mnaSolver(in1, True, 0)\n",
    "print(\"Values for DC analysis: \")\n",
    "for x in range(len(names1)):\n",
    "    print(names1[x] + \"\\t\" + str(ans_dc[x].real))"
   ]
  },
  {
   "cell_type": "code",
   "execution_count": 18,
   "id": "4be0bc98-bc3c-4a07-9915-7cdcc21ec3a1",
   "metadata": {},
   "outputs": [
    {
     "name": "stdout",
     "output_type": "stream",
     "text": [
      "Values for DC analysis: \n",
      "IV1\t2.2222222222222214\n",
      "GND\t0.0\n",
      "1\t-10.0\n",
      "2\t-5.555555555555557\n",
      "3\t-3.7037037037037037\n"
     ]
    }
   ],
   "source": [
    "f = open(\"ckt4.netlist\", \"r\") \n",
    "inp = f.readlines()\n",
    "f.close()\n",
    "_ = singlefreq(inp) # checking if there is only single operating frequency for all AC sources in the circuit\n",
    "ik = int(0)\n",
    "for ik in range(len(inp)):\n",
    "    if inp[ik] == \".circuit\\n\":\n",
    "        break\n",
    "ik += 1\n",
    "j = ik\n",
    "k = ik\n",
    "p = ik\n",
    "while inp[ik] != \".end\\n\":\n",
    "    ik += 1\n",
    "\n",
    "in1 = matrix_prep(inp, True, j) # creating dc netlist\n",
    "ans_dc, names1 = mnaSolver(in1, True, 0)\n",
    "print(\"Values for DC analysis: \")\n",
    "for x in range(len(names1)):\n",
    "    print(names1[x] + \"\\t\" + str(ans_dc[x].real))"
   ]
  },
  {
   "cell_type": "code",
   "execution_count": 19,
   "id": "a394dbdf-3931-475b-86a8-48446845c70d",
   "metadata": {},
   "outputs": [
    {
     "name": "stdout",
     "output_type": "stream",
     "text": [
      "Values for DC analysis: \n",
      "GND\t0.0\n",
      "1\t-10.0\n",
      "IV1\t1.0\n"
     ]
    }
   ],
   "source": [
    "f = open(\"ckt5.netlist\", \"r\") \n",
    "inp = f.readlines()\n",
    "f.close()\n",
    "_ = singlefreq(inp) # checking if there is only single operating frequency for all AC sources in the circuit\n",
    "ik = int(0)\n",
    "for ik in range(len(inp)):\n",
    "    if inp[ik] == \".circuit\\n\":\n",
    "        break\n",
    "ik += 1\n",
    "j = ik\n",
    "k = ik\n",
    "p = ik\n",
    "while inp[ik] != \".end\\n\":\n",
    "    ik += 1\n",
    "\n",
    "in1 = matrix_prep(inp, True, j) # creating dc netlist\n",
    "ans_dc, names1 = mnaSolver(in1, True, 0)\n",
    "print(\"Values for DC analysis: \")\n",
    "for x in range(len(names1)):\n",
    "    print(names1[x] + \"\\t\" + str(ans_dc[x].real))"
   ]
  },
  {
   "cell_type": "markdown",
   "id": "3cc3c17e-b22b-44b0-a5c4-7540369e1887",
   "metadata": {},
   "source": [
    "#### AC sources (circuits 6 and 7)"
   ]
  },
  {
   "cell_type": "code",
   "execution_count": 20,
   "id": "bc2221be-6039-4fbf-a67b-c87e5e8ef424",
   "metadata": {},
   "outputs": [
    {
     "name": "stdout",
     "output_type": "stream",
     "text": [
      "Values for AC analysis: \n",
      "IV1\t Magnitude:0.00500\t Phase: -6.124030364011088e-06\n",
      "GND\t Magnitude:0.00000\t Phase: 0.0\n",
      "n3\t Magnitude:5.00000\t Phase: -3.141592653589793\n",
      "n1\t Magnitude:0.00003\t Phase: -1.5708024508252607\n",
      "n2\t Magnitude:0.00003\t Phase: -1.5708024508252607\n"
     ]
    }
   ],
   "source": [
    "f = open(\"ckt6.netlist\", \"r\") \n",
    "inp = f.readlines()\n",
    "f.close()\n",
    "_ = singlefreq(inp) # checking if there is only single operating frequency for all AC sources in the circuit\n",
    "ik = int(0)\n",
    "for ik in range(len(inp)):\n",
    "    if inp[ik] == \".circuit\\n\":\n",
    "        break\n",
    "ik += 1\n",
    "j = ik\n",
    "k = ik\n",
    "p = ik\n",
    "while inp[ik] != \".end\\n\":\n",
    "    ik += 1\n",
    "\n",
    "in2 = matrix_prep(inp, False, k) # creating ac netlist\n",
    "ans_ac, names2 = mnaSolver(in2, False, 0)\n",
    "print(\"Values for AC analysis: \")\n",
    "for y in range(len(names2)):\n",
    "    print(names2[y] + \"\\t Magnitude:\" + str('%0.5f' % abs(ans_ac[y])) + \"\\t Phase: \" + str(cmath.phase(ans_ac[y])))"
   ]
  },
  {
   "cell_type": "code",
   "execution_count": 21,
   "id": "062d0c46-fde0-47da-a07d-f3b7fdf2d7a3",
   "metadata": {},
   "outputs": [
    {
     "name": "stdout",
     "output_type": "stream",
     "text": [
      "Values for AC analysis: \n",
      "GND\t Magnitude:0.00000\t Phase: 0.0\n",
      "n1\t Magnitude:0.00082\t Phase: -1.5707961635037402\n"
     ]
    }
   ],
   "source": [
    "f = open(\"ckt7.netlist\", \"r\") \n",
    "inp = f.readlines()\n",
    "f.close()\n",
    "_ = singlefreq(inp) # checking if there is only single operating frequency for all AC sources in the circuit\n",
    "ik = int(0)\n",
    "for ik in range(len(inp)):\n",
    "    if inp[ik] == \".circuit\\n\":\n",
    "        break\n",
    "ik += 1\n",
    "j = ik\n",
    "k = ik\n",
    "p = ik\n",
    "while inp[ik] != \".end\\n\":\n",
    "    ik += 1\n",
    "\n",
    "in2 = matrix_prep(inp, False, k) # creating ac netlist\n",
    "ans_ac, names2 = mnaSolver(in2, False, 0)\n",
    "print(\"Values for AC analysis: \")\n",
    "for y in range(len(names2)):\n",
    "    print(names2[y] + \"\\t Magnitude:\" + str('%0.5f' % abs(ans_ac[y])) + \"\\t Phase: \" + str(cmath.phase(ans_ac[y])))"
   ]
  },
  {
   "cell_type": "markdown",
   "id": "182280a6-0f62-47c2-a33a-587dd4c2fb8c",
   "metadata": {},
   "source": [
    "#### AC DC superposition (circuit 2)"
   ]
  },
  {
   "cell_type": "code",
   "execution_count": 22,
   "id": "86a5c095-2c93-41fb-a81c-4c629bffafad",
   "metadata": {},
   "outputs": [],
   "source": [
    "f = open(\"ckt2.netlist\", \"r\") \n",
    "inp = f.readlines()\n",
    "f.close()\n",
    "_ = singlefreq(inp) # checking if there is only single operating frequency for all AC sources in the circuit\n",
    "ik = int(0)\n",
    "for ik in range(len(inp)):\n",
    "    if inp[ik] == \".circuit\\n\":\n",
    "        break"
   ]
  },
  {
   "cell_type": "markdown",
   "id": "ee20866a-194d-4abb-8e84-37118ea651bd",
   "metadata": {},
   "source": [
    "To apply superposition, solve the circuit twice. \n",
    "\n",
    "Once considering only DC sources:"
   ]
  },
  {
   "cell_type": "code",
   "execution_count": 23,
   "id": "0d406b2b-b0ea-44fb-866f-39c19cd2139e",
   "metadata": {},
   "outputs": [
    {
     "name": "stdout",
     "output_type": "stream",
     "text": [
      "Values for DC analysis: \n",
      "1\t5142.857142857143\n",
      "GND\t0.0\n",
      "2\t15428.57142857143\n",
      "3\t0.0\n",
      "IV1\t-3.8571428571428577\n",
      "IV2\t9.0\n",
      "4\t15423.57142857143\n",
      "5\t10423.57142857143\n",
      "6\t95423.57142857143\n"
     ]
    }
   ],
   "source": [
    "ik += 1\n",
    "j = ik\n",
    "k = ik\n",
    "p = ik\n",
    "while inp[ik] != \".end\\n\":\n",
    "    ik += 1\n",
    "\n",
    "in1 = matrix_prep(inp, True, j) # creating dc netlist\n",
    "ans_dc, names1 = mnaSolver(in1, True, 0)\n",
    "print(\"Values for DC analysis: \")\n",
    "for x in range(len(names1)):\n",
    "    print(names1[x] + \"\\t\" + str(ans_dc[x].real))"
   ]
  },
  {
   "cell_type": "markdown",
   "id": "0e40c4d7-df87-4a08-ab0e-44eff904fbde",
   "metadata": {},
   "source": [
    "And once considering only all AC sources:"
   ]
  },
  {
   "cell_type": "code",
   "execution_count": 24,
   "id": "3faa2790-d92e-4412-a898-8a4c555518fd",
   "metadata": {},
   "outputs": [
    {
     "name": "stdout",
     "output_type": "stream",
     "text": [
      "Values for AC analysis: \n",
      "1\t Magnitude:0.28571\t Phase: 0.0\n",
      "GND\t Magnitude:0.00000\t Phase: 0.0\n",
      "2\t Magnitude:0.85714\t Phase: 0.0\n",
      "3\t Magnitude:2.00000\t Phase: 0.0\n",
      "IV1\t Magnitude:0.00029\t Phase: -0.0\n",
      "IV2\t Magnitude:0.00000\t Phase: -0.0\n",
      "4\t Magnitude:0.85714\t Phase: 0.0\n",
      "5\t Magnitude:0.85714\t Phase: 0.0\n",
      "6\t Magnitude:0.85714\t Phase: 0.0\n"
     ]
    }
   ],
   "source": [
    "in2 = matrix_prep(inp, False, k) # creating ac netlist\n",
    "ans_ac, names2 = mnaSolver(in2, False, 0)\n",
    "print(\"Values for AC analysis: \")\n",
    "for i in range(len(names2)):\n",
    "    print(names2[i] + \"\\t Magnitude:\" + str('%0.5f' % abs(ans_ac[i])) + \"\\t Phase: \" + str(cmath.phase(ans_ac[i])))"
   ]
  },
  {
   "cell_type": "markdown",
   "id": "9871556b-61a1-48b5-a35d-6b969e839808",
   "metadata": {},
   "source": [
    "For the final answer, we superpose the DC values with the AC values, but multiply all the AC values with $e^{j \\omega t}$ before adding them.\n",
    "\n",
    "This solver can solve for circuits with AC and DC sources together, provided all AC sources have the same operating frequency."
   ]
  }
 ],
 "metadata": {
  "authors": [
   {
    "name": "Shreya .S. Ramanujam EE21B126"
   }
  ],
  "kernelspec": {
   "display_name": "Python 3 (ipykernel)",
   "language": "python",
   "name": "python3"
  },
  "language_info": {
   "codemirror_mode": {
    "name": "ipython",
    "version": 3
   },
   "file_extension": ".py",
   "mimetype": "text/x-python",
   "name": "python",
   "nbconvert_exporter": "python",
   "pygments_lexer": "ipython3",
   "version": "3.9.2"
  }
 },
 "nbformat": 4,
 "nbformat_minor": 5
}
